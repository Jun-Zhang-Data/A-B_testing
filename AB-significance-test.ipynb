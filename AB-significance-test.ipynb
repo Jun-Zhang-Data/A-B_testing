{
 "cells": [
  {
   "cell_type": "code",
   "execution_count": 1,
   "id": "153364d5",
   "metadata": {},
   "outputs": [],
   "source": [
    "import pandas as pd\n",
    "import numpy as np\n",
    "import seaborn as sns\n",
    "import scipy.stats as ss \n"
   ]
  },
  {
   "cell_type": "code",
   "execution_count": 2,
   "id": "dec8a387",
   "metadata": {},
   "outputs": [],
   "source": [
    "read_file = pd.read_excel (r'Statistics_Assessment_Data.xlsx')\n",
    "read_file.to_csv (r'ABstatistics.csv', index = None, header=True)"
   ]
  },
  {
   "cell_type": "code",
   "execution_count": 3,
   "id": "7e9c3e29",
   "metadata": {},
   "outputs": [],
   "source": [
    "data= pd.read_csv(\"ABstatistics.csv\")"
   ]
  },
  {
   "cell_type": "code",
   "execution_count": 4,
   "id": "a0463731",
   "metadata": {},
   "outputs": [
    {
     "data": {
      "text/html": [
       "<div>\n",
       "<style scoped>\n",
       "    .dataframe tbody tr th:only-of-type {\n",
       "        vertical-align: middle;\n",
       "    }\n",
       "\n",
       "    .dataframe tbody tr th {\n",
       "        vertical-align: top;\n",
       "    }\n",
       "\n",
       "    .dataframe thead th {\n",
       "        text-align: right;\n",
       "    }\n",
       "</style>\n",
       "<table border=\"1\" class=\"dataframe\">\n",
       "  <thead>\n",
       "    <tr style=\"text-align: right;\">\n",
       "      <th></th>\n",
       "      <th>UserID</th>\n",
       "      <th>Brand</th>\n",
       "      <th>Test Group</th>\n",
       "      <th>Converted</th>\n",
       "    </tr>\n",
       "  </thead>\n",
       "  <tbody>\n",
       "    <tr>\n",
       "      <th>0</th>\n",
       "      <td>7573340</td>\n",
       "      <td>Casino A</td>\n",
       "      <td>B</td>\n",
       "      <td>1</td>\n",
       "    </tr>\n",
       "    <tr>\n",
       "      <th>1</th>\n",
       "      <td>5465339</td>\n",
       "      <td>Casino A</td>\n",
       "      <td>A</td>\n",
       "      <td>0</td>\n",
       "    </tr>\n",
       "    <tr>\n",
       "      <th>2</th>\n",
       "      <td>7516520</td>\n",
       "      <td>Casino A</td>\n",
       "      <td>B</td>\n",
       "      <td>0</td>\n",
       "    </tr>\n",
       "    <tr>\n",
       "      <th>3</th>\n",
       "      <td>7616973</td>\n",
       "      <td>Casino A</td>\n",
       "      <td>A</td>\n",
       "      <td>1</td>\n",
       "    </tr>\n",
       "    <tr>\n",
       "      <th>4</th>\n",
       "      <td>7341455</td>\n",
       "      <td>Casino A</td>\n",
       "      <td>B</td>\n",
       "      <td>0</td>\n",
       "    </tr>\n",
       "    <tr>\n",
       "      <th>...</th>\n",
       "      <td>...</td>\n",
       "      <td>...</td>\n",
       "      <td>...</td>\n",
       "      <td>...</td>\n",
       "    </tr>\n",
       "    <tr>\n",
       "      <th>346</th>\n",
       "      <td>7597629</td>\n",
       "      <td>Casino A</td>\n",
       "      <td>A</td>\n",
       "      <td>1</td>\n",
       "    </tr>\n",
       "    <tr>\n",
       "      <th>347</th>\n",
       "      <td>6059769</td>\n",
       "      <td>Casino A</td>\n",
       "      <td>B</td>\n",
       "      <td>1</td>\n",
       "    </tr>\n",
       "    <tr>\n",
       "      <th>348</th>\n",
       "      <td>7369482</td>\n",
       "      <td>Casino A</td>\n",
       "      <td>B</td>\n",
       "      <td>0</td>\n",
       "    </tr>\n",
       "    <tr>\n",
       "      <th>349</th>\n",
       "      <td>7467535</td>\n",
       "      <td>Casino A</td>\n",
       "      <td>B</td>\n",
       "      <td>1</td>\n",
       "    </tr>\n",
       "    <tr>\n",
       "      <th>350</th>\n",
       "      <td>7186169</td>\n",
       "      <td>Casino A</td>\n",
       "      <td>A</td>\n",
       "      <td>0</td>\n",
       "    </tr>\n",
       "  </tbody>\n",
       "</table>\n",
       "<p>351 rows × 4 columns</p>\n",
       "</div>"
      ],
      "text/plain": [
       "      UserID     Brand Test Group  Converted\n",
       "0    7573340  Casino A          B          1\n",
       "1    5465339  Casino A          A          0\n",
       "2    7516520  Casino A          B          0\n",
       "3    7616973  Casino A          A          1\n",
       "4    7341455  Casino A          B          0\n",
       "..       ...       ...        ...        ...\n",
       "346  7597629  Casino A          A          1\n",
       "347  6059769  Casino A          B          1\n",
       "348  7369482  Casino A          B          0\n",
       "349  7467535  Casino A          B          1\n",
       "350  7186169  Casino A          A          0\n",
       "\n",
       "[351 rows x 4 columns]"
      ]
     },
     "execution_count": 4,
     "metadata": {},
     "output_type": "execute_result"
    }
   ],
   "source": [
    "data"
   ]
  },
  {
   "cell_type": "code",
   "execution_count": 5,
   "id": "907b2208",
   "metadata": {},
   "outputs": [],
   "source": [
    "data.rename(columns={\"Test Group\": \"Group\",}, inplace=True)"
   ]
  },
  {
   "cell_type": "code",
   "execution_count": 6,
   "id": "1c444564",
   "metadata": {},
   "outputs": [
    {
     "data": {
      "text/html": [
       "<div>\n",
       "<style scoped>\n",
       "    .dataframe tbody tr th:only-of-type {\n",
       "        vertical-align: middle;\n",
       "    }\n",
       "\n",
       "    .dataframe tbody tr th {\n",
       "        vertical-align: top;\n",
       "    }\n",
       "\n",
       "    .dataframe thead tr th {\n",
       "        text-align: left;\n",
       "    }\n",
       "\n",
       "    .dataframe thead tr:last-of-type th {\n",
       "        text-align: right;\n",
       "    }\n",
       "</style>\n",
       "<table border=\"1\" class=\"dataframe\">\n",
       "  <thead>\n",
       "    <tr>\n",
       "      <th></th>\n",
       "      <th>UserID</th>\n",
       "      <th>Brand</th>\n",
       "      <th>Group</th>\n",
       "      <th>Converted</th>\n",
       "    </tr>\n",
       "    <tr>\n",
       "      <th></th>\n",
       "      <th>count</th>\n",
       "      <th>count</th>\n",
       "      <th>count</th>\n",
       "      <th>count</th>\n",
       "    </tr>\n",
       "    <tr>\n",
       "      <th>Converted</th>\n",
       "      <th></th>\n",
       "      <th></th>\n",
       "      <th></th>\n",
       "      <th></th>\n",
       "    </tr>\n",
       "  </thead>\n",
       "  <tbody>\n",
       "    <tr>\n",
       "      <th>False</th>\n",
       "      <td>92</td>\n",
       "      <td>92</td>\n",
       "      <td>92</td>\n",
       "      <td>92</td>\n",
       "    </tr>\n",
       "    <tr>\n",
       "      <th>True</th>\n",
       "      <td>82</td>\n",
       "      <td>82</td>\n",
       "      <td>82</td>\n",
       "      <td>82</td>\n",
       "    </tr>\n",
       "  </tbody>\n",
       "</table>\n",
       "</div>"
      ],
      "text/plain": [
       "          UserID Brand Group Converted\n",
       "           count count count     count\n",
       "Converted                             \n",
       "False         92    92    92        92\n",
       "True          82    82    82        82"
      ]
     },
     "execution_count": 6,
     "metadata": {},
     "output_type": "execute_result"
    }
   ],
   "source": [
    "data[data['Group'] == 'A'].groupby(data['Converted']==1).agg(['count'])"
   ]
  },
  {
   "cell_type": "code",
   "execution_count": 7,
   "id": "4ec708a4",
   "metadata": {},
   "outputs": [
    {
     "data": {
      "text/html": [
       "<div>\n",
       "<style scoped>\n",
       "    .dataframe tbody tr th:only-of-type {\n",
       "        vertical-align: middle;\n",
       "    }\n",
       "\n",
       "    .dataframe tbody tr th {\n",
       "        vertical-align: top;\n",
       "    }\n",
       "\n",
       "    .dataframe thead tr th {\n",
       "        text-align: left;\n",
       "    }\n",
       "\n",
       "    .dataframe thead tr:last-of-type th {\n",
       "        text-align: right;\n",
       "    }\n",
       "</style>\n",
       "<table border=\"1\" class=\"dataframe\">\n",
       "  <thead>\n",
       "    <tr>\n",
       "      <th></th>\n",
       "      <th>UserID</th>\n",
       "      <th>Brand</th>\n",
       "      <th>Group</th>\n",
       "      <th>Converted</th>\n",
       "    </tr>\n",
       "    <tr>\n",
       "      <th></th>\n",
       "      <th>count</th>\n",
       "      <th>count</th>\n",
       "      <th>count</th>\n",
       "      <th>count</th>\n",
       "    </tr>\n",
       "    <tr>\n",
       "      <th>Converted</th>\n",
       "      <th></th>\n",
       "      <th></th>\n",
       "      <th></th>\n",
       "      <th></th>\n",
       "    </tr>\n",
       "  </thead>\n",
       "  <tbody>\n",
       "    <tr>\n",
       "      <th>False</th>\n",
       "      <td>114</td>\n",
       "      <td>114</td>\n",
       "      <td>114</td>\n",
       "      <td>114</td>\n",
       "    </tr>\n",
       "    <tr>\n",
       "      <th>True</th>\n",
       "      <td>63</td>\n",
       "      <td>63</td>\n",
       "      <td>63</td>\n",
       "      <td>63</td>\n",
       "    </tr>\n",
       "  </tbody>\n",
       "</table>\n",
       "</div>"
      ],
      "text/plain": [
       "          UserID Brand Group Converted\n",
       "           count count count     count\n",
       "Converted                             \n",
       "False        114   114   114       114\n",
       "True          63    63    63        63"
      ]
     },
     "execution_count": 7,
     "metadata": {},
     "output_type": "execute_result"
    }
   ],
   "source": [
    "data[data['Group'] == 'B'].groupby(data['Converted']==1).agg(['count'])"
   ]
  },
  {
   "cell_type": "code",
   "execution_count": 8,
   "id": "54b86648",
   "metadata": {},
   "outputs": [
    {
     "data": {
      "text/plain": [
       "174"
      ]
     },
     "execution_count": 8,
     "metadata": {},
     "output_type": "execute_result"
    }
   ],
   "source": [
    "data[data['Group'] == 'A'].shape[0]"
   ]
  },
  {
   "cell_type": "code",
   "execution_count": 9,
   "id": "7e578594",
   "metadata": {},
   "outputs": [
    {
     "data": {
      "text/plain": [
       "177"
      ]
     },
     "execution_count": 9,
     "metadata": {},
     "output_type": "execute_result"
    }
   ],
   "source": [
    "data[data['Group'] == 'B'].shape[0]"
   ]
  },
  {
   "cell_type": "code",
   "execution_count": 10,
   "id": "2d47c98b",
   "metadata": {},
   "outputs": [
    {
     "data": {
      "text/plain": [
       "351"
      ]
     },
     "execution_count": 10,
     "metadata": {},
     "output_type": "execute_result"
    }
   ],
   "source": [
    "data['Converted'].shape[0]"
   ]
  },
  {
   "cell_type": "code",
   "execution_count": 11,
   "id": "52c1cb0f",
   "metadata": {},
   "outputs": [],
   "source": [
    "n_control, n_variant = 174, 177\n",
    "converted_a, converted_b = 82, 63\n",
    "crv_control, crv_variant = converted_a / n_control, converted_b / n_variant"
   ]
  },
  {
   "cell_type": "code",
   "execution_count": 12,
   "id": "bb916dc3",
   "metadata": {},
   "outputs": [
    {
     "data": {
      "text/plain": [
       "(0.47126436781609193, 0.3559322033898305)"
      ]
     },
     "execution_count": 12,
     "metadata": {},
     "output_type": "execute_result"
    }
   ],
   "source": [
    "crv_control, crv_variant"
   ]
  },
  {
   "cell_type": "code",
   "execution_count": 13,
   "id": "c6cc1038",
   "metadata": {},
   "outputs": [
    {
     "data": {
      "text/plain": [
       "True"
      ]
     },
     "execution_count": 13,
     "metadata": {},
     "output_type": "execute_result"
    }
   ],
   "source": [
    "pd.Series(data[\"UserID\"]).is_unique"
   ]
  },
  {
   "cell_type": "code",
   "execution_count": 14,
   "id": "5d3a348e",
   "metadata": {},
   "outputs": [
    {
     "data": {
      "image/png": "[encoded data removed]",
      "text/plain": [
       "<Figure size 432x288 with 1 Axes>"
      ]
     },
     "metadata": {
      "needs_background": "light"
     },
     "output_type": "display_data"
    }
   ],
   "source": [
    "import matplotlib.pyplot as plt\n",
    "from scipy.stats import binom\n",
    "import numpy as np\n",
    "\n",
    "\n",
    "conversions = np.arange(20, 80)\n",
    "prob_a = binom(n_control, crv_control).pmf(conversions)\n",
    "prob_b = binom(n_variant, crv_variant).pmf(conversions)\n",
    "\n",
    "\n",
    "plt.bar(conversions, prob_a, label=\"A\", alpha=0.7)\n",
    "plt.bar(conversions, prob_b, label=\"B\", alpha=0.7)\n",
    "plt.xlabel(\"Num converted\"); plt.ylabel(\"Probability\");"
   ]
  },
  {
   "cell_type": "code",
   "execution_count": 15,
   "id": "366cadb7",
   "metadata": {},
   "outputs": [
    {
     "data": {
      "image/png": "[encoded data removed]",
      "text/plain": [
       "<Figure size 432x288 with 1 Axes>"
      ]
     },
     "metadata": {
      "needs_background": "light"
     },
     "output_type": "display_data"
    }
   ],
   "source": [
    "from scipy.stats import norm\n",
    "\n",
    "\n",
    "\n",
    "std_a = np.sqrt(crv_control * (1 - crv_control) / n_control)\n",
    "std_b = np.sqrt(crv_variant * (1 - crv_variant) / n_variant)\n",
    "\n",
    "conversions = np.linspace(0, 0.8, 300)\n",
    "prob_a = norm(crv_control, std_a).pdf(conversions)\n",
    "prob_b = norm(crv_variant, std_b).pdf(conversions)\n",
    "\n",
    "\n",
    "plt.plot(conversions, prob_a, label=\"A\")\n",
    "plt.plot(conversions, prob_b, label=\"B\")\n",
    "plt.xlabel(\"Conversion rate\"); plt.ylabel(\"Probability\");"
   ]
  },
  {
   "cell_type": "code",
   "execution_count": 16,
   "id": "cf3f3a28",
   "metadata": {},
   "outputs": [
    {
     "name": "stdout",
     "output_type": "stream",
     "text": [
      "N - Control: 174 , Variant: 177\n",
      "CRV - Control: 0.4713 , Variant: 0.3559\n",
      "Conversions -  Control: 82 , Variant: 63\n",
      "Var -  Control: 0.2492 , Variant: 0.2292\n",
      "------------\n",
      "Z-score: -2.2085\n"
     ]
    }
   ],
   "source": [
    "# Variance\n",
    "var_control = crv_control * (1-crv_control) \n",
    "var_variant = crv_variant * (1-crv_variant)\n",
    "\n",
    "conversions_control = crv_control * n_control\n",
    "conversions_variant = crv_variant * n_variant\n",
    "\n",
    "print('N - Control: {:0.0f} , Variant: {:0.0f}'.format(n_control, n_variant))\n",
    "print('CRV - Control: {:0.4f} , Variant: {:0.4f}'.format(crv_control, crv_variant))\n",
    "print('Conversions -  Control: {:0.0f} , Variant: {:0.0f}'.format(conversions_control, conversions_variant))\n",
    "print('Var -  Control: {:0.4f} , Variant: {:0.4f}'.format(var_control, var_variant))\n",
    "\n",
    "# Create combined random variable S\n",
    "mean_control = crv_control\n",
    "mean_variant = crv_variant\n",
    "S_mean = mean_variant - mean_control\n",
    "S_var = (var_control/n_control) + (var_variant/n_variant)\n",
    "\n",
    "print('------------')\n",
    "Z_score = S_mean / np.sqrt(S_var)\n",
    "print('Z-score: {:0.4f}'.format(Z_score))"
   ]
  },
  {
   "cell_type": "code",
   "execution_count": 18,
   "id": "2d74e072",
   "metadata": {},
   "outputs": [
    {
     "name": "stdout",
     "output_type": "stream",
     "text": [
      "p-value: 1.972791\n"
     ]
    }
   ],
   "source": [
    "import scipy.stats as st\n",
    "\n",
    "p_value_1_tail = 1-st.norm.cdf(-2.2085)\n",
    "p_value_2_tail = p_value_1_tail * 2\n",
    "\n",
    "print('p-value: {:0.6f}'.format(p_value_2_tail))"
   ]
  },
  {
   "cell_type": "code",
   "execution_count": null,
   "id": "01da372f",
   "metadata": {},
   "outputs": [],
   "source": []
  }
 ],
 "metadata": {
  "kernelspec": {
   "display_name": "Python 3",
   "language": "python",
   "name": "python3"
  },
  "language_info": {
   "codemirror_mode": {
    "name": "ipython",
    "version": 3
   },
   "file_extension": ".py",
   "mimetype": "text/x-python",
   "name": "python",
   "nbconvert_exporter": "python",
   "pygments_lexer": "ipython3",
   "version": "3.7.10"
  }
 },
 "nbformat": 4,
 "nbformat_minor": 5
}
